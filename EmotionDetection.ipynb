{
 "cells": [
  {
   "cell_type": "markdown",
   "metadata": {},
   "source": [
    "#  EMOTION DETECTION BY KAMESH UPMANYU\n",
    "#  UNIV ROLL 2013351\n",
    "#  CLASS ROLL 26\n",
    "#  SECTION D"
   ]
  },
  {
   "cell_type": "markdown",
   "metadata": {},
   "source": [
    "# IMPORTING REQUIRED LIBRARIES"
   ]
  },
  {
   "cell_type": "code",
   "execution_count": 1,
   "metadata": {},
   "outputs": [],
   "source": [
    "\n",
    "import cv2\n",
    "import numpy as np\n",
    "from deepface import DeepFace"
   ]
  },
  {
   "cell_type": "markdown",
   "metadata": {},
   "source": [
    "# CLASSIFYING THE FACE"
   ]
  },
  {
   "cell_type": "code",
   "execution_count": 2,
   "metadata": {},
   "outputs": [],
   "source": [
    "face_classifier=cv2.CascadeClassifier(r'C:\\Users\\Kamesh Upmanyu\\haarcascade_frontalface_default.xml')"
   ]
  },
  {
   "cell_type": "markdown",
   "metadata": {},
   "source": [
    "# CHECKING THE RESULT BY GIVING SINGLE IMAGE "
   ]
  },
  {
   "cell_type": "code",
   "execution_count": 3,
   "metadata": {},
   "outputs": [
    {
     "name": "stdout",
     "output_type": "stream",
     "text": [
      "{'region': {'x': 3, 'y': 0, 'w': 41, 'h': 52}, 'emotion': {'angry': 2.572102439230826, 'disgust': 6.106897171905665e-12, 'fear': 97.4278984920918, 'happy': 1.9463101180635975e-07, 'sad': 5.689752394057175e-10, 'surprise': 6.108933862071108e-09, 'neutral': 2.0320321098828302e-17}, 'dominant_emotion': 'fear'}\n"
     ]
    }
   ],
   "source": [
    "img=cv2.imread(r'137.jpg')\n",
    "\n",
    "#img = cv2.cvtColor(img,cv2.COLOR_BGR2GRAY)\n",
    "#faces = face_classifier.detectMultiScale(gray)\n",
    "\n",
    "\n",
    "result=DeepFace.analyze(img,actions=['emotion'])\n",
    "print(result)"
   ]
  },
  {
   "cell_type": "markdown",
   "metadata": {},
   "source": [
    "# EXTRACTING THE RESULT JUST FOR EMOTION"
   ]
  },
  {
   "cell_type": "code",
   "execution_count": 4,
   "metadata": {},
   "outputs": [],
   "source": [
    "result=DeepFace.analyze(img,actions=['emotion'])"
   ]
  },
  {
   "cell_type": "code",
   "execution_count": 5,
   "metadata": {},
   "outputs": [
    {
     "name": "stdout",
     "output_type": "stream",
     "text": [
      "fear\n"
     ]
    }
   ],
   "source": [
    "print(result['dominant_emotion'])"
   ]
  },
  {
   "cell_type": "markdown",
   "metadata": {},
   "source": [
    "# REALTIME PROCESSING VIDEO CAPTURE OBJECT"
   ]
  },
  {
   "cell_type": "code",
   "execution_count": 6,
   "metadata": {},
   "outputs": [],
   "source": [
    "\n",
    "\n",
    "cap = cv2.VideoCapture(0)\n",
    "\n",
    "f=0\n",
    "\n",
    "while True:\n",
    "    f+=1\n",
    "    _, frame = cap.read()\n",
    "    if f==1000:\n",
    "        f=0\n",
    "    prediction = DeepFace.analyze(frame,actions=['emotion'])\n",
    "   # frame=cv2.cvtColor(frame,cv2.COLOR_BGR2GRAY)\n",
    "    faces=face_classifier.detectMultiScale(frame)\n",
    " \n",
    "    for (x,y,w,h) in faces:\n",
    "        cv2.rectangle(frame,(x,y),(x+w,y+h),(0,255,255),2)\n",
    "        \n",
    "\n",
    "\n",
    "\n",
    "    \n",
    "    label=prediction['dominant_emotion']\n",
    "    label_position = (x,y)\n",
    "    cv2.putText(frame,label,label_position,cv2.FONT_HERSHEY_SIMPLEX,1,(0,255,0),2)\n",
    "        \n",
    "    cv2.imshow('Emotion Detector',frame)\n",
    "    if cv2.waitKey(1) & 0xFF == ord('q'):\n",
    "        break\n",
    "\n",
    "cap.release()\n",
    "cv2.destroyAllWindows()"
   ]
  },
  {
   "cell_type": "code",
   "execution_count": null,
   "metadata": {},
   "outputs": [],
   "source": []
  },
  {
   "cell_type": "code",
   "execution_count": null,
   "metadata": {},
   "outputs": [],
   "source": []
  }
 ],
 "metadata": {
  "kernelspec": {
   "display_name": "Python 3",
   "language": "python",
   "name": "python3"
  },
  "language_info": {
   "codemirror_mode": {
    "name": "ipython",
    "version": 3
   },
   "file_extension": ".py",
   "mimetype": "text/x-python",
   "name": "python",
   "nbconvert_exporter": "python",
   "pygments_lexer": "ipython3",
   "version": "3.7.4"
  }
 },
 "nbformat": 4,
 "nbformat_minor": 2
}
